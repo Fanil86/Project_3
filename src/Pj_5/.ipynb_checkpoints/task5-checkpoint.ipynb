{
 "cells": [
  {
   "cell_type": "markdown",
   "id": "bd44b985",
   "metadata": {},
   "source": [
    "## Создаем соединение с базой данных с помощью библиотеки sqlite3"
   ]
  },
  {
   "cell_type": "code",
   "execution_count": 1,
   "id": "0d7269b0",
   "metadata": {},
   "outputs": [
    {
     "data": {
      "text/plain": [
       "<sqlite3.Connection at 0x21439783640>"
      ]
     },
     "execution_count": 1,
     "metadata": {},
     "output_type": "execute_result"
    }
   ],
   "source": [
    "import sqlite3\n",
    "import pandas as pd\n",
    "\n",
    "sql_connection=sqlite3.connect('../../data/checking-logs.sqlite')\n",
    "sql_connection"
   ]
  },
  {
   "cell_type": "markdown",
   "id": "f8528889",
   "metadata": {},
   "source": [
    "## Используя только один запрос для каждой из групп, создаем два датафрейма: test_results и control_results со столбцами time и avg_diff и только двумя строками.\n",
    "\n",
    "\n",
    "1. times имеет значения before и after.\n",
    "\n",
    "2. avg_diff содержит среднее значение дельты для всех пользователей за период времени до первого посещения ленты новостей каждым из них и после этого.\n",
    "3. Учитываются только те пользователи, для которых имеются наблюдения и before, и after.\n",
    "\n",
    "\n",
    "4. По-прежнему не используем лабораторное задание 'project1'"
   ]
  },
  {
   "cell_type": "code",
   "execution_count": 2,
   "id": "092c54fe",
   "metadata": {},
   "outputs": [
    {
     "data": {
      "text/html": [
       "<div>\n",
       "<style scoped>\n",
       "    .dataframe tbody tr th:only-of-type {\n",
       "        vertical-align: middle;\n",
       "    }\n",
       "\n",
       "    .dataframe tbody tr th {\n",
       "        vertical-align: top;\n",
       "    }\n",
       "\n",
       "    .dataframe thead th {\n",
       "        text-align: right;\n",
       "    }\n",
       "</style>\n",
       "<table border=\"1\" class=\"dataframe\">\n",
       "  <thead>\n",
       "    <tr style=\"text-align: right;\">\n",
       "      <th></th>\n",
       "      <th>time</th>\n",
       "      <th>AVG(avg_diff)</th>\n",
       "    </tr>\n",
       "  </thead>\n",
       "  <tbody>\n",
       "    <tr>\n",
       "      <th>0</th>\n",
       "      <td>after</td>\n",
       "      <td>-99.523810</td>\n",
       "    </tr>\n",
       "    <tr>\n",
       "      <th>1</th>\n",
       "      <td>before</td>\n",
       "      <td>-66.047619</td>\n",
       "    </tr>\n",
       "  </tbody>\n",
       "</table>\n",
       "</div>"
      ],
      "text/plain": [
       "     time  AVG(avg_diff)\n",
       "0   after     -99.523810\n",
       "1  before     -66.047619"
      ]
     },
     "execution_count": 2,
     "metadata": {},
     "output_type": "execute_result"
    }
   ],
   "source": [
    "test_results  = '''\n",
    "        SELECT time, AVG(avg_diff)\n",
    "        FROM (SELECT uid, labname, AVG ((strftime('%s', first_commit_ts) - deadlines) / 3600) AS avg_diff,\n",
    "            CASE\n",
    "                WHEN (strftime('%s', first_commit_ts)) < (strftime('%s', first_view_ts))\n",
    "                THEN 'before' ELSE ' after' END AS time\n",
    "            FROM test\n",
    "            LEFT JOIN deadlines ON labname = labs WHERE labname NOT LIKE 'project1'\n",
    "            GROUP BY uid, time)\n",
    "        WHERE uid IN (SELECT uid\n",
    "                    FROM (SELECT uid, \n",
    "                        CASE\n",
    "                            WHEN (strftime('%s', first_commit_ts)) < (strftime('%s', first_view_ts))\n",
    "                            THEN 'before' ELSE ' after' END AS time\n",
    "                    FROM test\n",
    "                    LEFT JOIN deadlines ON labname = labs WHERE labname NOT LIKE 'project1'\n",
    "                    GROUP BY uid, time)\n",
    "        GROUP BY uid\n",
    "        HAVING COUNT(uid) == 2)\n",
    "        GROUP BY time'''\n",
    "\n",
    "test_results = pd.read_sql(test_results, sql_connection)\n",
    "test_results"
   ]
  },
  {
   "cell_type": "code",
   "execution_count": 3,
   "id": "7ba00836",
   "metadata": {},
   "outputs": [
    {
     "data": {
      "text/html": [
       "<div>\n",
       "<style scoped>\n",
       "    .dataframe tbody tr th:only-of-type {\n",
       "        vertical-align: middle;\n",
       "    }\n",
       "\n",
       "    .dataframe tbody tr th {\n",
       "        vertical-align: top;\n",
       "    }\n",
       "\n",
       "    .dataframe thead th {\n",
       "        text-align: right;\n",
       "    }\n",
       "</style>\n",
       "<table border=\"1\" class=\"dataframe\">\n",
       "  <thead>\n",
       "    <tr style=\"text-align: right;\">\n",
       "      <th></th>\n",
       "      <th>time</th>\n",
       "      <th>AVG(avg_diff)</th>\n",
       "    </tr>\n",
       "  </thead>\n",
       "  <tbody>\n",
       "    <tr>\n",
       "      <th>0</th>\n",
       "      <td>after</td>\n",
       "      <td>-99.322222</td>\n",
       "    </tr>\n",
       "    <tr>\n",
       "      <th>1</th>\n",
       "      <td>before</td>\n",
       "      <td>-98.033333</td>\n",
       "    </tr>\n",
       "  </tbody>\n",
       "</table>\n",
       "</div>"
      ],
      "text/plain": [
       "     time  AVG(avg_diff)\n",
       "0   after     -99.322222\n",
       "1  before     -98.033333"
      ]
     },
     "execution_count": 3,
     "metadata": {},
     "output_type": "execute_result"
    }
   ],
   "source": [
    "control_results = '''\n",
    "        SELECT time, AVG(avg_diff)\n",
    "        FROM (SELECT uid, labname, AVG ((strftime('%s', first_commit_ts) - deadlines) / 3600) AS avg_diff,\n",
    "            CASE\n",
    "                WHEN (strftime('%s', first_commit_ts)) < (strftime('%s', first_view_ts))\n",
    "                THEN 'before' ELSE ' after' END AS time\n",
    "            FROM control\n",
    "            LEFT JOIN deadlines ON labname = labs WHERE labname NOT LIKE 'project1'\n",
    "            GROUP BY uid, time)\n",
    "        WHERE uid IN (SELECT uid\n",
    "                    FROM (SELECT uid, \n",
    "                        CASE\n",
    "                            WHEN (strftime('%s', first_commit_ts)) < (strftime('%s', first_view_ts))\n",
    "                            THEN 'before' ELSE ' after' END AS time\n",
    "                    FROM control\n",
    "                    LEFT JOIN deadlines ON labname = labs WHERE labname NOT LIKE 'project1'\n",
    "                    GROUP BY uid, time)\n",
    "        GROUP BY uid\n",
    "        HAVING COUNT(uid) == 2)\n",
    "        GROUP BY time'''\n",
    "\n",
    "control_results = pd.read_sql(control_results, sql_connection)\n",
    "\n",
    "control_results"
   ]
  },
  {
   "cell_type": "markdown",
   "id": "f9880520",
   "metadata": {},
   "source": [
    "## Закрываем соединение с базой данных."
   ]
  },
  {
   "cell_type": "code",
   "execution_count": 4,
   "id": "3a97fefa",
   "metadata": {},
   "outputs": [],
   "source": [
    "sql_connection.close()"
   ]
  }
 ],
 "metadata": {
  "kernelspec": {
   "display_name": "Python 3 (ipykernel)",
   "language": "python",
   "name": "python3"
  },
  "language_info": {
   "codemirror_mode": {
    "name": "ipython",
    "version": 3
   },
   "file_extension": ".py",
   "mimetype": "text/x-python",
   "name": "python",
   "nbconvert_exporter": "python",
   "pygments_lexer": "ipython3",
   "version": "3.10.9"
  },
  "widgets": {
   "application/vnd.jupyter.widget-state+json": {
    "state": {},
    "version_major": 2,
    "version_minor": 0
   }
  }
 },
 "nbformat": 4,
 "nbformat_minor": 5
}
