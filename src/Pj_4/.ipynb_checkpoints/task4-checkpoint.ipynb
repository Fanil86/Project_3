{
 "cells": [
  {
   "cell_type": "markdown",
   "id": "d07bb095",
   "metadata": {},
   "source": [
    "## Создаем соединение с базой данных с помощью библиотеки sqlite3"
   ]
  },
  {
   "cell_type": "code",
   "execution_count": 1,
   "id": "5ada11fe",
   "metadata": {},
   "outputs": [
    {
     "data": {
      "text/plain": [
       "<sqlite3.Connection at 0x21c3ba23640>"
      ]
     },
     "execution_count": 1,
     "metadata": {},
     "output_type": "execute_result"
    }
   ],
   "source": [
    "import sqlite3\n",
    "import pandas as pd\n",
    "\n",
    "sql_connection=sqlite3.connect('../../data/checking-logs.sqlite')\n",
    "sql_connection"
   ]
  },
  {
   "cell_type": "markdown",
   "id": "a23a0aa6",
   "metadata": {},
   "source": [
    "## Получаем схему таблицы test."
   ]
  },
  {
   "cell_type": "code",
   "execution_count": 2,
   "id": "8d6b63d9",
   "metadata": {},
   "outputs": [
    {
     "data": {
      "text/html": [
       "<div>\n",
       "<style scoped>\n",
       "    .dataframe tbody tr th:only-of-type {\n",
       "        vertical-align: middle;\n",
       "    }\n",
       "\n",
       "    .dataframe tbody tr th {\n",
       "        vertical-align: top;\n",
       "    }\n",
       "\n",
       "    .dataframe thead th {\n",
       "        text-align: right;\n",
       "    }\n",
       "</style>\n",
       "<table border=\"1\" class=\"dataframe\">\n",
       "  <thead>\n",
       "    <tr style=\"text-align: right;\">\n",
       "      <th></th>\n",
       "      <th>cid</th>\n",
       "      <th>name</th>\n",
       "      <th>type</th>\n",
       "      <th>notnull</th>\n",
       "      <th>dflt_value</th>\n",
       "      <th>pk</th>\n",
       "    </tr>\n",
       "  </thead>\n",
       "  <tbody>\n",
       "    <tr>\n",
       "      <th>0</th>\n",
       "      <td>0</td>\n",
       "      <td>uid</td>\n",
       "      <td>TEXT</td>\n",
       "      <td>0</td>\n",
       "      <td>None</td>\n",
       "      <td>0</td>\n",
       "    </tr>\n",
       "    <tr>\n",
       "      <th>1</th>\n",
       "      <td>1</td>\n",
       "      <td>labname</td>\n",
       "      <td>TEXT</td>\n",
       "      <td>0</td>\n",
       "      <td>None</td>\n",
       "      <td>0</td>\n",
       "    </tr>\n",
       "    <tr>\n",
       "      <th>2</th>\n",
       "      <td>2</td>\n",
       "      <td>first_commit_ts</td>\n",
       "      <td>TIMESTAMP</td>\n",
       "      <td>0</td>\n",
       "      <td>None</td>\n",
       "      <td>0</td>\n",
       "    </tr>\n",
       "    <tr>\n",
       "      <th>3</th>\n",
       "      <td>3</td>\n",
       "      <td>first_view_ts</td>\n",
       "      <td>TIMESTAMP</td>\n",
       "      <td>0</td>\n",
       "      <td>None</td>\n",
       "      <td>0</td>\n",
       "    </tr>\n",
       "  </tbody>\n",
       "</table>\n",
       "</div>"
      ],
      "text/plain": [
       "   cid             name       type  notnull dflt_value  pk\n",
       "0    0              uid       TEXT        0       None   0\n",
       "1    1          labname       TEXT        0       None   0\n",
       "2    2  first_commit_ts  TIMESTAMP        0       None   0\n",
       "3    3    first_view_ts  TIMESTAMP        0       None   0"
      ]
     },
     "execution_count": 2,
     "metadata": {},
     "output_type": "execute_result"
    }
   ],
   "source": [
    "pd.io.sql.read_sql('PRAGMA table_info(test);', sql_connection)"
   ]
  },
  {
   "cell_type": "markdown",
   "id": "ec865ce4",
   "metadata": {},
   "source": [
    "## Получаем первые 10 строк таблицы test."
   ]
  },
  {
   "cell_type": "code",
   "execution_count": 3,
   "id": "6fe20466",
   "metadata": {},
   "outputs": [
    {
     "data": {
      "text/html": [
       "<div>\n",
       "<style scoped>\n",
       "    .dataframe tbody tr th:only-of-type {\n",
       "        vertical-align: middle;\n",
       "    }\n",
       "\n",
       "    .dataframe tbody tr th {\n",
       "        vertical-align: top;\n",
       "    }\n",
       "\n",
       "    .dataframe thead th {\n",
       "        text-align: right;\n",
       "    }\n",
       "</style>\n",
       "<table border=\"1\" class=\"dataframe\">\n",
       "  <thead>\n",
       "    <tr style=\"text-align: right;\">\n",
       "      <th></th>\n",
       "      <th>uid</th>\n",
       "      <th>labname</th>\n",
       "      <th>first_commit_ts</th>\n",
       "      <th>first_view_ts</th>\n",
       "    </tr>\n",
       "  </thead>\n",
       "  <tbody>\n",
       "    <tr>\n",
       "      <th>0</th>\n",
       "      <td>user_17</td>\n",
       "      <td>project1</td>\n",
       "      <td>2020-04-18 07:56:45</td>\n",
       "      <td>2020-04-18 10:56:55</td>\n",
       "    </tr>\n",
       "    <tr>\n",
       "      <th>1</th>\n",
       "      <td>user_30</td>\n",
       "      <td>laba04</td>\n",
       "      <td>2020-04-18 13:36:53</td>\n",
       "      <td>2020-04-17 22:46:26</td>\n",
       "    </tr>\n",
       "    <tr>\n",
       "      <th>2</th>\n",
       "      <td>user_30</td>\n",
       "      <td>laba04s</td>\n",
       "      <td>2020-04-18 14:51:37</td>\n",
       "      <td>2020-04-17 22:46:26</td>\n",
       "    </tr>\n",
       "    <tr>\n",
       "      <th>3</th>\n",
       "      <td>user_14</td>\n",
       "      <td>laba04</td>\n",
       "      <td>2020-04-18 15:14:00</td>\n",
       "      <td>2020-04-18 10:53:52</td>\n",
       "    </tr>\n",
       "    <tr>\n",
       "      <th>4</th>\n",
       "      <td>user_14</td>\n",
       "      <td>laba04s</td>\n",
       "      <td>2020-04-18 22:30:30</td>\n",
       "      <td>2020-04-18 10:53:52</td>\n",
       "    </tr>\n",
       "    <tr>\n",
       "      <th>5</th>\n",
       "      <td>user_19</td>\n",
       "      <td>laba04</td>\n",
       "      <td>2020-04-20 19:05:01</td>\n",
       "      <td>2020-04-21 20:30:38</td>\n",
       "    </tr>\n",
       "    <tr>\n",
       "      <th>6</th>\n",
       "      <td>user_25</td>\n",
       "      <td>laba04</td>\n",
       "      <td>2020-04-20 19:16:50</td>\n",
       "      <td>2020-05-09 23:54:54</td>\n",
       "    </tr>\n",
       "    <tr>\n",
       "      <th>7</th>\n",
       "      <td>user_21</td>\n",
       "      <td>laba04</td>\n",
       "      <td>2020-04-21 17:48:00</td>\n",
       "      <td>2020-04-22 22:40:36</td>\n",
       "    </tr>\n",
       "    <tr>\n",
       "      <th>8</th>\n",
       "      <td>user_30</td>\n",
       "      <td>project1</td>\n",
       "      <td>2020-04-22 12:36:24</td>\n",
       "      <td>2020-04-17 22:46:26</td>\n",
       "    </tr>\n",
       "    <tr>\n",
       "      <th>9</th>\n",
       "      <td>user_21</td>\n",
       "      <td>laba04s</td>\n",
       "      <td>2020-04-22 20:09:21</td>\n",
       "      <td>2020-04-22 22:40:36</td>\n",
       "    </tr>\n",
       "  </tbody>\n",
       "</table>\n",
       "</div>"
      ],
      "text/plain": [
       "       uid   labname      first_commit_ts        first_view_ts\n",
       "0  user_17  project1  2020-04-18 07:56:45  2020-04-18 10:56:55\n",
       "1  user_30    laba04  2020-04-18 13:36:53  2020-04-17 22:46:26\n",
       "2  user_30   laba04s  2020-04-18 14:51:37  2020-04-17 22:46:26\n",
       "3  user_14    laba04  2020-04-18 15:14:00  2020-04-18 10:53:52\n",
       "4  user_14   laba04s  2020-04-18 22:30:30  2020-04-18 10:53:52\n",
       "5  user_19    laba04  2020-04-20 19:05:01  2020-04-21 20:30:38\n",
       "6  user_25    laba04  2020-04-20 19:16:50  2020-05-09 23:54:54\n",
       "7  user_21    laba04  2020-04-21 17:48:00  2020-04-22 22:40:36\n",
       "8  user_30  project1  2020-04-22 12:36:24  2020-04-17 22:46:26\n",
       "9  user_21   laba04s  2020-04-22 20:09:21  2020-04-22 22:40:36"
      ]
     },
     "execution_count": 3,
     "metadata": {},
     "output_type": "execute_result"
    }
   ],
   "source": [
    "limit=pd.io.sql.read_sql('SELECT * FROM test LIMIT 10;', sql_connection)\n",
    "limit"
   ]
  },
  {
   "cell_type": "markdown",
   "id": "c2ade95a",
   "metadata": {},
   "source": [
    "## Находим среди всех пользователей минимальное значение дельты (периода времени от даты первого коммита пользователя до срока сдачи соответствующего лабораторного задания), используя только один запрос. Название итогового датафрейма — df_min\n",
    "\n",
    "* Для этого сджойним данные таблицы с данными таблицы deadlines.\n",
    "* Период времени отображается в часах.\n",
    "* Не учитываем лабораторное задание project1 с более длительным сроком сдачи, поскольку оно будет выделяться на фоне других.\n",
    "* Сохраняем значение в датафрейме **df_min** с соответствующим uid"
   ]
  },
  {
   "cell_type": "code",
   "execution_count": 4,
   "id": "4b8d5c99",
   "metadata": {},
   "outputs": [
    {
     "data": {
      "text/html": [
       "<div>\n",
       "<style scoped>\n",
       "    .dataframe tbody tr th:only-of-type {\n",
       "        vertical-align: middle;\n",
       "    }\n",
       "\n",
       "    .dataframe tbody tr th {\n",
       "        vertical-align: top;\n",
       "    }\n",
       "\n",
       "    .dataframe thead th {\n",
       "        text-align: right;\n",
       "    }\n",
       "</style>\n",
       "<table border=\"1\" class=\"dataframe\">\n",
       "  <thead>\n",
       "    <tr style=\"text-align: right;\">\n",
       "      <th></th>\n",
       "      <th>uid</th>\n",
       "      <th>min(diff)</th>\n",
       "    </tr>\n",
       "  </thead>\n",
       "  <tbody>\n",
       "    <tr>\n",
       "      <th>0</th>\n",
       "      <td>user_30</td>\n",
       "      <td>-202</td>\n",
       "    </tr>\n",
       "  </tbody>\n",
       "</table>\n",
       "</div>"
      ],
      "text/plain": [
       "       uid  min(diff)\n",
       "0  user_30       -202"
      ]
     },
     "execution_count": 4,
     "metadata": {},
     "output_type": "execute_result"
    }
   ],
   "source": [
    "df_min = \"\"\"\n",
    "SELECT uid, MIN((strftime('%s', first_commit_ts) - deadlines) / 3600) AS 'min(diff)'\n",
    "FROM\n",
    "    (SELECT * FROM test WHERE labname NOT LIKE (\"project1\"))\n",
    "LEFT JOIN\n",
    "    deadlines ON labname = deadlines.labs;\"\"\"\n",
    "\n",
    "df_min = pd.io.sql.read_sql(df_min, sql_connection)\n",
    "df_min"
   ]
  },
  {
   "cell_type": "markdown",
   "id": "1fb946ca",
   "metadata": {},
   "source": [
    "## Выполняем те же самые операции для максимального значения дельты, используя только один запрос. Название итогового датафрейма — df_max"
   ]
  },
  {
   "cell_type": "code",
   "execution_count": 5,
   "id": "699381ec",
   "metadata": {},
   "outputs": [
    {
     "data": {
      "text/html": [
       "<div>\n",
       "<style scoped>\n",
       "    .dataframe tbody tr th:only-of-type {\n",
       "        vertical-align: middle;\n",
       "    }\n",
       "\n",
       "    .dataframe tbody tr th {\n",
       "        vertical-align: top;\n",
       "    }\n",
       "\n",
       "    .dataframe thead th {\n",
       "        text-align: right;\n",
       "    }\n",
       "</style>\n",
       "<table border=\"1\" class=\"dataframe\">\n",
       "  <thead>\n",
       "    <tr style=\"text-align: right;\">\n",
       "      <th></th>\n",
       "      <th>uid</th>\n",
       "      <th>max(diff)</th>\n",
       "    </tr>\n",
       "  </thead>\n",
       "  <tbody>\n",
       "    <tr>\n",
       "      <th>0</th>\n",
       "      <td>user_25</td>\n",
       "      <td>-2</td>\n",
       "    </tr>\n",
       "  </tbody>\n",
       "</table>\n",
       "</div>"
      ],
      "text/plain": [
       "       uid  max(diff)\n",
       "0  user_25         -2"
      ]
     },
     "execution_count": 5,
     "metadata": {},
     "output_type": "execute_result"
    }
   ],
   "source": [
    "df_max = \"\"\"\n",
    "SELECT uid, MAX((strftime('%s', first_commit_ts) - deadlines) / 3600) AS 'max(diff)'\n",
    "FROM\n",
    "    (SELECT * FROM test WHERE labname NOT LIKE (\"project1\"))\n",
    "LEFT JOIN\n",
    "    deadlines ON labname = deadlines.labs;\"\"\"\n",
    "\n",
    "df_max = pd.io.sql.read_sql(df_max, sql_connection)\n",
    "df_max"
   ]
  },
  {
   "cell_type": "markdown",
   "id": "3d5654e1",
   "metadata": {},
   "source": [
    "## Выполняем те же самые операции для среднего значения дельты, используя только один запрос. На этот раз итоговый датафрейм не включает столбец uid; имя датафрейма — df_avg."
   ]
  },
  {
   "cell_type": "code",
   "execution_count": 6,
   "id": "b8800ecd",
   "metadata": {},
   "outputs": [
    {
     "data": {
      "text/html": [
       "<div>\n",
       "<style scoped>\n",
       "    .dataframe tbody tr th:only-of-type {\n",
       "        vertical-align: middle;\n",
       "    }\n",
       "\n",
       "    .dataframe tbody tr th {\n",
       "        vertical-align: top;\n",
       "    }\n",
       "\n",
       "    .dataframe thead th {\n",
       "        text-align: right;\n",
       "    }\n",
       "</style>\n",
       "<table border=\"1\" class=\"dataframe\">\n",
       "  <thead>\n",
       "    <tr style=\"text-align: right;\">\n",
       "      <th></th>\n",
       "      <th>AVG(diff)</th>\n",
       "    </tr>\n",
       "  </thead>\n",
       "  <tbody>\n",
       "    <tr>\n",
       "      <th>0</th>\n",
       "      <td>-89.125</td>\n",
       "    </tr>\n",
       "  </tbody>\n",
       "</table>\n",
       "</div>"
      ],
      "text/plain": [
       "   AVG(diff)\n",
       "0    -89.125"
      ]
     },
     "execution_count": 6,
     "metadata": {},
     "output_type": "execute_result"
    }
   ],
   "source": [
    "df_avg =\"\"\"\n",
    "SELECT AVG((strftime('%s', first_commit_ts) - deadlines) / 3600) AS 'AVG(diff)'\n",
    "FROM\n",
    "    (SELECT * FROM test WHERE labname NOT LIKE (\"project1\"))\n",
    "LEFT JOIN\n",
    "    deadlines ON labname = deadlines.labs;\"\"\"\n",
    "    \n",
    "df_avg = pd.io.sql.read_sql(df_avg, sql_connection)\n",
    "df_avg"
   ]
  },
  {
   "cell_type": "markdown",
   "id": "24a80877",
   "metadata": {},
   "source": [
    "## Проверяем предположение о том, что у пользователей, посетивших ленту новостей всего несколько раз, период времени между датой первого коммита и сроком сдачи лабораторного задания меньше. Для этого рассчитываем коэффициент корреляции между количеством просмотров страниц и разницей между датами.\n",
    "\n",
    "1. Используя только один запрос, создаем таблицу со столбцами: uid, avg_diff, pageviews.\n",
    "\n",
    "\n",
    " * uid — это uid, существующие в таблице test.\n",
    "\n",
    " * avg_diff — среднее значение дельты (периода времени между датой первого коммита и сроком сдачи лабораторного задания) для каждого пользователя.\n",
    "\n",
    " * pageviews — количество посещений ленты новостей одним пользователем.\n",
    "\n",
    "\n",
    "2. Не учитывем лабораторное задание project1.\n",
    "3. Сохраняем результаты в датафрейме views_diff.\n",
    "4. Используем метод corr() библиотеки Pandas для вычисления коэффициента корреляции между количеством просмотров и значением дельты."
   ]
  },
  {
   "cell_type": "code",
   "execution_count": 7,
   "id": "1ee1f6c0",
   "metadata": {},
   "outputs": [
    {
     "data": {
      "text/html": [
       "<div>\n",
       "<style scoped>\n",
       "    .dataframe tbody tr th:only-of-type {\n",
       "        vertical-align: middle;\n",
       "    }\n",
       "\n",
       "    .dataframe tbody tr th {\n",
       "        vertical-align: top;\n",
       "    }\n",
       "\n",
       "    .dataframe thead th {\n",
       "        text-align: right;\n",
       "    }\n",
       "</style>\n",
       "<table border=\"1\" class=\"dataframe\">\n",
       "  <thead>\n",
       "    <tr style=\"text-align: right;\">\n",
       "      <th></th>\n",
       "      <th>avg_diff</th>\n",
       "      <th>pageviews</th>\n",
       "    </tr>\n",
       "  </thead>\n",
       "  <tbody>\n",
       "    <tr>\n",
       "      <th>avg_diff</th>\n",
       "      <td>1.000000</td>\n",
       "      <td>-0.279736</td>\n",
       "    </tr>\n",
       "    <tr>\n",
       "      <th>pageviews</th>\n",
       "      <td>-0.279736</td>\n",
       "      <td>1.000000</td>\n",
       "    </tr>\n",
       "  </tbody>\n",
       "</table>\n",
       "</div>"
      ],
      "text/plain": [
       "           avg_diff  pageviews\n",
       "avg_diff   1.000000  -0.279736\n",
       "pageviews -0.279736   1.000000"
      ]
     },
     "execution_count": 7,
     "metadata": {},
     "output_type": "execute_result"
    }
   ],
   "source": [
    "views_diff = \"\"\"\n",
    "SELECT\n",
    "    test.uid, avg_diff, pageviews.pageviews\n",
    "FROM (\n",
    "    SELECT uid, AVG((strftime('%s', first_commit_ts) - deadlines) / 3600) AS avg_diff\n",
    "    FROM test\n",
    "    LEFT JOIN deadlines ON test.labname = deadlines.labs\n",
    "    WHERE labname NOT LIKE 'project1'\n",
    "    GROUP BY uid\n",
    ") test\n",
    "LEFT JOIN (\n",
    "    SELECT uid, COUNT(*) AS pageviews\n",
    "    FROM pageviews\n",
    "    WHERE uid LIKE 'user_%'\n",
    "    GROUP BY uid\n",
    ") pageviews ON test.uid = pageviews.uid;\n",
    "\"\"\"\n",
    "\n",
    "views_diff = pd.read_sql(views_diff, sql_connection)\n",
    "views_diff\n",
    "\n",
    "views_diff[[\"avg_diff\", \"pageviews\"]].corr()"
   ]
  },
  {
   "cell_type": "markdown",
   "id": "08cdcc8d",
   "metadata": {},
   "source": [
    "## Закрываем соединение с базой данных."
   ]
  },
  {
   "cell_type": "code",
   "execution_count": 8,
   "id": "ea5e6e1f",
   "metadata": {},
   "outputs": [],
   "source": [
    "sql_connection.close()"
   ]
  }
 ],
 "metadata": {
  "kernelspec": {
   "display_name": "Python 3 (ipykernel)",
   "language": "python",
   "name": "python3"
  },
  "language_info": {
   "codemirror_mode": {
    "name": "ipython",
    "version": 3
   },
   "file_extension": ".py",
   "mimetype": "text/x-python",
   "name": "python",
   "nbconvert_exporter": "python",
   "pygments_lexer": "ipython3",
   "version": "3.10.9"
  }
 },
 "nbformat": 4,
 "nbformat_minor": 5
}
