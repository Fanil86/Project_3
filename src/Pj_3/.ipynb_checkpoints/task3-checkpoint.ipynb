{
 "cells": [
  {
   "cell_type": "markdown",
   "id": "ce9e54da",
   "metadata": {},
   "source": [
    "## Создаем соединение с базой данных с помощью библиотеки sqlite3"
   ]
  },
  {
   "cell_type": "code",
   "execution_count": 1,
   "id": "64c36fa6",
   "metadata": {},
   "outputs": [
    {
     "data": {
      "text/plain": [
       "<sqlite3.Connection at 0x24f8755f240>"
      ]
     },
     "execution_count": 1,
     "metadata": {},
     "output_type": "execute_result"
    }
   ],
   "source": [
    "import sqlite3\n",
    "import pandas as pd\n",
    "\n",
    "sql_connection=sqlite3.connect('../../data/checking-logs.sqlite')\n",
    "sql_connection"
   ]
  },
  {
   "cell_type": "markdown",
   "id": "b2a4422e",
   "metadata": {},
   "source": [
    "## Создаем новую таблицу datamart в базе данных, объединив таблицы pageviews и checker с помощью только одного запроса.\n",
    "\n",
    "1. Таблица содержит следующие столбцы: uid, labname, first_commit_ts, first_view_ts.\n",
    "\n",
    "2. first_commit_ts — это просто новое имя для столбца timestamp из таблицы checker; он показывает первый коммит конкретного лабораторного задания конкретного пользователя.\n",
    "\n",
    "3. first_view_ts — первое посещение пользователем из таблицы pageviews, метка времени посещения пользователем ленты новостей.\n",
    "4. По-прежнему используем фильтр status = 'ready'.\n",
    "5. По-прежнему используем фильтр numTrials = 1.\n",
    "6. Имена лабораторных заданий по-прежнему из следующего списка: laba04, laba04s, laba05, laba06, laba06s, project1.\n",
    "7. Таблица содержит только пользователей (uid с user_*), а не администраторов.\n",
    "\n",
    "8. first_commit_ts и first_view_ts распарсены как datetime64[ns]."
   ]
  },
  {
   "cell_type": "code",
   "execution_count": 2,
   "id": "896c3dd0",
   "metadata": {},
   "outputs": [
    {
     "data": {
      "text/html": [
       "<div>\n",
       "<style scoped>\n",
       "    .dataframe tbody tr th:only-of-type {\n",
       "        vertical-align: middle;\n",
       "    }\n",
       "\n",
       "    .dataframe tbody tr th {\n",
       "        vertical-align: top;\n",
       "    }\n",
       "\n",
       "    .dataframe thead th {\n",
       "        text-align: right;\n",
       "    }\n",
       "</style>\n",
       "<table border=\"1\" class=\"dataframe\">\n",
       "  <thead>\n",
       "    <tr style=\"text-align: right;\">\n",
       "      <th></th>\n",
       "      <th>uid</th>\n",
       "      <th>labname</th>\n",
       "      <th>first_commit_ts</th>\n",
       "      <th>first_view_ts</th>\n",
       "    </tr>\n",
       "  </thead>\n",
       "  <tbody>\n",
       "    <tr>\n",
       "      <th>0</th>\n",
       "      <td>user_4</td>\n",
       "      <td>project1</td>\n",
       "      <td>2020-04-17 05:19:02</td>\n",
       "      <td>NaT</td>\n",
       "    </tr>\n",
       "    <tr>\n",
       "      <th>1</th>\n",
       "      <td>user_4</td>\n",
       "      <td>laba04</td>\n",
       "      <td>2020-04-17 11:33:17</td>\n",
       "      <td>NaT</td>\n",
       "    </tr>\n",
       "    <tr>\n",
       "      <th>2</th>\n",
       "      <td>user_4</td>\n",
       "      <td>laba04s</td>\n",
       "      <td>2020-04-17 11:48:41</td>\n",
       "      <td>NaT</td>\n",
       "    </tr>\n",
       "    <tr>\n",
       "      <th>3</th>\n",
       "      <td>user_17</td>\n",
       "      <td>project1</td>\n",
       "      <td>2020-04-18 07:56:45</td>\n",
       "      <td>2020-04-18 10:56:55</td>\n",
       "    </tr>\n",
       "    <tr>\n",
       "      <th>4</th>\n",
       "      <td>user_30</td>\n",
       "      <td>laba04</td>\n",
       "      <td>2020-04-18 13:36:53</td>\n",
       "      <td>2020-04-17 22:46:26</td>\n",
       "    </tr>\n",
       "    <tr>\n",
       "      <th>...</th>\n",
       "      <td>...</td>\n",
       "      <td>...</td>\n",
       "      <td>...</td>\n",
       "      <td>...</td>\n",
       "    </tr>\n",
       "    <tr>\n",
       "      <th>135</th>\n",
       "      <td>user_23</td>\n",
       "      <td>laba06</td>\n",
       "      <td>2020-05-21 08:34:10</td>\n",
       "      <td>NaT</td>\n",
       "    </tr>\n",
       "    <tr>\n",
       "      <th>136</th>\n",
       "      <td>user_19</td>\n",
       "      <td>laba06s</td>\n",
       "      <td>2020-05-21 13:27:06</td>\n",
       "      <td>2020-04-21 20:30:38</td>\n",
       "    </tr>\n",
       "    <tr>\n",
       "      <th>137</th>\n",
       "      <td>user_23</td>\n",
       "      <td>laba06s</td>\n",
       "      <td>2020-05-21 14:29:15</td>\n",
       "      <td>NaT</td>\n",
       "    </tr>\n",
       "    <tr>\n",
       "      <th>138</th>\n",
       "      <td>user_17</td>\n",
       "      <td>laba06</td>\n",
       "      <td>2020-05-21 15:21:31</td>\n",
       "      <td>2020-04-18 10:56:55</td>\n",
       "    </tr>\n",
       "    <tr>\n",
       "      <th>139</th>\n",
       "      <td>user_17</td>\n",
       "      <td>laba06s</td>\n",
       "      <td>2020-05-21 17:39:17</td>\n",
       "      <td>2020-04-18 10:56:55</td>\n",
       "    </tr>\n",
       "  </tbody>\n",
       "</table>\n",
       "<p>140 rows × 4 columns</p>\n",
       "</div>"
      ],
      "text/plain": [
       "         uid   labname     first_commit_ts       first_view_ts\n",
       "0     user_4  project1 2020-04-17 05:19:02                 NaT\n",
       "1     user_4    laba04 2020-04-17 11:33:17                 NaT\n",
       "2     user_4   laba04s 2020-04-17 11:48:41                 NaT\n",
       "3    user_17  project1 2020-04-18 07:56:45 2020-04-18 10:56:55\n",
       "4    user_30    laba04 2020-04-18 13:36:53 2020-04-17 22:46:26\n",
       "..       ...       ...                 ...                 ...\n",
       "135  user_23    laba06 2020-05-21 08:34:10                 NaT\n",
       "136  user_19   laba06s 2020-05-21 13:27:06 2020-04-21 20:30:38\n",
       "137  user_23   laba06s 2020-05-21 14:29:15                 NaT\n",
       "138  user_17    laba06 2020-05-21 15:21:31 2020-04-18 10:56:55\n",
       "139  user_17   laba06s 2020-05-21 17:39:17 2020-04-18 10:56:55\n",
       "\n",
       "[140 rows x 4 columns]"
      ]
     },
     "execution_count": 2,
     "metadata": {},
     "output_type": "execute_result"
    }
   ],
   "source": [
    "datamart = '''\n",
    "CREATE TABLE IF NOT EXISTS datamart AS\n",
    "\n",
    "SELECT \n",
    "    checker.uid AS uid,\n",
    "    checker.labname AS labname,\n",
    "    datetime(checker.timestamp) AS first_commit_ts,\n",
    "    datetime(pageviews.datetime) AS first_view_ts\n",
    "FROM\n",
    "    checker\n",
    "LEFT JOIN   \n",
    "    pageviews\n",
    "ON\n",
    "    checker.uid = pageviews.uid\n",
    "WHERE\n",
    "    checker.status = 'ready'\n",
    "    AND checker.numTrials = 1\n",
    "    AND checker.labname IN ('laba04', 'laba04s', 'laba05', 'laba06', 'laba06s', 'project1')\n",
    "    AND checker.uid LIKE 'user_%'\n",
    "GROUP BY\n",
    "     checker.timestamp,checker.uid;\n",
    "'''\n",
    "sql_connection.execute(datamart)\n",
    "datamart = pd.io.sql.read_sql(\"SELECT uid, labname, first_commit_ts, first_view_ts FROM datamart\", sql_connection, parse_dates=['first_commit_ts', 'first_view_ts'])\n",
    "datamart"
   ]
  },
  {
   "cell_type": "code",
   "execution_count": 3,
   "id": "ca668734",
   "metadata": {},
   "outputs": [
    {
     "name": "stdout",
     "output_type": "stream",
     "text": [
      "<class 'pandas.core.frame.DataFrame'>\n",
      "RangeIndex: 140 entries, 0 to 139\n",
      "Data columns (total 4 columns):\n",
      " #   Column           Non-Null Count  Dtype         \n",
      "---  ------           --------------  -----         \n",
      " 0   uid              140 non-null    object        \n",
      " 1   labname          140 non-null    object        \n",
      " 2   first_commit_ts  140 non-null    datetime64[ns]\n",
      " 3   first_view_ts    59 non-null     datetime64[ns]\n",
      "dtypes: datetime64[ns](2), object(2)\n",
      "memory usage: 4.5+ KB\n"
     ]
    }
   ],
   "source": [
    "datamart.info()"
   ]
  },
  {
   "cell_type": "markdown",
   "id": "0f6d9bf4",
   "metadata": {},
   "source": [
    "## Используя методы библиотеки Pandas, создаем два датафрейма: test и control.\n",
    "\n",
    "\n",
    "1. test включает пользователей, у которых имеются значения в first_view_ts.\n",
    "\n",
    "2. control включает пользователей, у которых отсутствуют значения в first_view_ts.\n",
    "3. Пропущенные значения в control заменяем средним значением first_view_ts пользователей из test (оно пригодится для анализа в будущем).\n",
    "4. Сохраняем обе таблицы в базе данныx."
   ]
  },
  {
   "cell_type": "code",
   "execution_count": 4,
   "id": "e4f75d40",
   "metadata": {},
   "outputs": [
    {
     "data": {
      "text/plain": [
       "81"
      ]
     },
     "execution_count": 4,
     "metadata": {},
     "output_type": "execute_result"
    }
   ],
   "source": [
    "# Создание датафрейма test  с пользователями, у которых есть значения в first_view_ts\n",
    "test = datamart.dropna(subset=['first_view_ts']).copy()\n",
    "\n",
    "# Создание датафрейма control с пользователями, у которых отсутствуют значения в first_view_ts\n",
    "control = datamart[datamart['first_view_ts'].isna()].copy()\n",
    "# заполняем пропущенные значения в столбце first_view_ts  средним значением из test\n",
    "mean_first_view_ts = test['first_view_ts'].mean()\n",
    "control['first_view_ts'].fillna(mean_first_view_ts, inplace=True)\n",
    "\n",
    "# Сохранение таблиц в базе данных\n",
    "test.to_sql('test', sql_connection, if_exists='replace', index=False)\n",
    "control.to_sql('control', sql_connection, if_exists='replace', index=False)"
   ]
  },
  {
   "cell_type": "code",
   "execution_count": 5,
   "id": "843bdd35",
   "metadata": {},
   "outputs": [],
   "source": [
    "# test.head()"
   ]
  },
  {
   "cell_type": "code",
   "execution_count": 6,
   "id": "9d4a6864",
   "metadata": {},
   "outputs": [],
   "source": [
    "# control.head()"
   ]
  },
  {
   "cell_type": "code",
   "execution_count": 7,
   "id": "f4e22e84",
   "metadata": {},
   "outputs": [
    {
     "name": "stdout",
     "output_type": "stream",
     "text": [
      "<class 'pandas.core.frame.DataFrame'>\n",
      "Int64Index: 59 entries, 3 to 139\n",
      "Data columns (total 4 columns):\n",
      " #   Column           Non-Null Count  Dtype         \n",
      "---  ------           --------------  -----         \n",
      " 0   uid              59 non-null     object        \n",
      " 1   labname          59 non-null     object        \n",
      " 2   first_commit_ts  59 non-null     datetime64[ns]\n",
      " 3   first_view_ts    59 non-null     datetime64[ns]\n",
      "dtypes: datetime64[ns](2), object(2)\n",
      "memory usage: 2.3+ KB\n"
     ]
    }
   ],
   "source": [
    "test.info()"
   ]
  },
  {
   "cell_type": "code",
   "execution_count": 8,
   "id": "73cd5715",
   "metadata": {},
   "outputs": [
    {
     "name": "stdout",
     "output_type": "stream",
     "text": [
      "<class 'pandas.core.frame.DataFrame'>\n",
      "Int64Index: 81 entries, 0 to 137\n",
      "Data columns (total 4 columns):\n",
      " #   Column           Non-Null Count  Dtype         \n",
      "---  ------           --------------  -----         \n",
      " 0   uid              81 non-null     object        \n",
      " 1   labname          81 non-null     object        \n",
      " 2   first_commit_ts  81 non-null     datetime64[ns]\n",
      " 3   first_view_ts    81 non-null     datetime64[ns]\n",
      "dtypes: datetime64[ns](2), object(2)\n",
      "memory usage: 3.2+ KB\n"
     ]
    }
   ],
   "source": [
    "control.info()"
   ]
  },
  {
   "cell_type": "markdown",
   "id": "99c9ec72",
   "metadata": {},
   "source": [
    "## Закрываем соединение с базой данных."
   ]
  },
  {
   "cell_type": "code",
   "execution_count": 9,
   "id": "b4528b23",
   "metadata": {},
   "outputs": [],
   "source": [
    "sql_connection.close()"
   ]
  }
 ],
 "metadata": {
  "kernelspec": {
   "display_name": "Python 3 (ipykernel)",
   "language": "python",
   "name": "python3"
  },
  "language_info": {
   "codemirror_mode": {
    "name": "ipython",
    "version": 3
   },
   "file_extension": ".py",
   "mimetype": "text/x-python",
   "name": "python",
   "nbconvert_exporter": "python",
   "pygments_lexer": "ipython3",
   "version": "3.10.9"
  }
 },
 "nbformat": 4,
 "nbformat_minor": 5
}
